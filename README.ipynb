{
 "cells": [
  {
   "cell_type": "markdown",
   "metadata": {},
   "source": [
    "# AI Alignment Toolkit Research Assistant\n",
    "\n",
    "We want to create a set of tools specifically dedicated to augment AI Alignment researchers with their job.\n",
    "In this project we tacke two problems:\n",
    "\n",
    "* \"Proactive insight extraction from new research\"\n",
    "* \"Using AI agents to automate alignment research\"\n",
    "\n",
    "We have attempted to build an end to end pipeline where AI Agents are able to complete whole tasks:\n",
    "* We created an API to fetch latest articles relevant to AI Alignment. The data source is from https://huggingface.co/datasets/StampyAI/alignment-research-dataset/tree/main\n",
    "* We let he AI Reserach Assistant go through the content of each new article and give a relevency score on how relevant it is to the current project\n",
    "* We then let 2 AI agents a Reseracher role and Advisor role to discuss the article to understand how it can contribute and help with AI Alignment\n",
    "* The system keeps track of which articles have been tracked, so that you can keep running this pipeline which will try to get new articles.\n",
    "\n",
    "\n",
    "Benefits of the system:\n",
    "* Can continously fetch new articles so that the reseracher is up to date with latest happenings\n",
    "* Low relevancy articles are discarded so that we don't waster researchers' time on those\n",
    "* Article discussions have potential to serve many purposed:\n",
    "  * Be a summary of the relevant content so the researcher can get up to speed fast\n",
    "  * Improve your current project by taking ideas from the article\n",
    "  * Generate novel ideas on what we can do with the findings of the articles\n",
    "\n",
    "## Technical overview\n",
    "\n",
    "<img src=\"./diagram.excalidraw.png\"></img>\n",
    "\n",
    "\n",
    "\n"
   ]
  },
  {
   "cell_type": "markdown",
   "metadata": {},
   "source": [
    "## Setup\n",
    "\n",
    "* Install python dependencies. Can use Pipenv `pipenv install`\n",
    "* Set environment variable: `ANTHROPIC_API_KEY`\n",
    "* Update `README.md` with description of your project. AI agents will use it as context.\n"
   ]
  },
  {
   "cell_type": "code",
   "execution_count": null,
   "metadata": {},
   "outputs": [],
   "source": [
    "from aat.aatoolkit import ResearchAssistant\n",
    "\n",
    "assistant = ResearchAssistant(\n",
    "    context_file_path=\"./PROJECT.md\", ## Defaults to README.md\n",
    "    data_folder=\"./data\" ## Will save hare artifacts such as downloaded articles, and AI assistant output\n",
    ")\n",
    "\n",
    "# will start fetching new articles, and AI will discuss the articles\n",
    "assistant.check_latest_papers()\n"
   ]
  },
  {
   "cell_type": "code",
   "execution_count": null,
   "metadata": {},
   "outputs": [],
   "source": []
  },
  {
   "cell_type": "code",
   "execution_count": null,
   "metadata": {},
   "outputs": [],
   "source": [
    "\n",
    "\n"
   ]
  },
  {
   "cell_type": "code",
   "execution_count": null,
   "metadata": {},
   "outputs": [],
   "source": []
  }
 ],
 "metadata": {
  "kernelspec": {
   "display_name": "aparthackathon-xpTnmAso",
   "language": "python",
   "name": "python3"
  },
  "language_info": {
   "codemirror_mode": {
    "name": "ipython",
    "version": 3
   },
   "file_extension": ".py",
   "mimetype": "text/x-python",
   "name": "python",
   "nbconvert_exporter": "python",
   "pygments_lexer": "ipython3",
   "version": "3.12.4"
  }
 },
 "nbformat": 4,
 "nbformat_minor": 2
}
